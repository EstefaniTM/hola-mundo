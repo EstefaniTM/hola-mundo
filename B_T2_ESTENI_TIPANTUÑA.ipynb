{
  "nbformat": 4,
  "nbformat_minor": 0,
  "metadata": {
    "colab": {
      "provenance": [],
      "authorship_tag": "ABX9TyOGrjeqL4QX22rUWWIiYFFE",
      "include_colab_link": true
    },
    "kernelspec": {
      "name": "python3",
      "display_name": "Python 3"
    },
    "language_info": {
      "name": "python"
    }
  },
  "cells": [
    {
      "cell_type": "markdown",
      "metadata": {
        "id": "view-in-github",
        "colab_type": "text"
      },
      "source": [
        "<a href=\"https://colab.research.google.com/github/EstefaniTM/hola-mundo/blob/main/B_T2_ESTENI_TIPANTU%C3%91A.ipynb\" target=\"_parent\"><img src=\"https://colab.research.google.com/assets/colab-badge.svg\" alt=\"Open In Colab\"/></a>"
      ]
    },
    {
      "cell_type": "markdown",
      "source": [
        "Trabajo 2: tic\n"
      ],
      "metadata": {
        "id": "1Djo4wyLfzJC"
      }
    },
    {
      "cell_type": "code",
      "execution_count": null,
      "metadata": {
        "colab": {
          "base_uri": "https://localhost:8080/"
        },
        "id": "7xliB-lPfbMh",
        "outputId": "d714b974-4313-4f96-942b-e774ab3d86ed"
      },
      "outputs": [
        {
          "output_type": "stream",
          "name": "stdout",
          "text": [
            "Hola mundo\n"
          ]
        }
      ],
      "source": [
        "print(\"Hola mundo\")"
      ]
    },
    {
      "cell_type": "markdown",
      "source": [
        "Suma de dos números: Escribe un programa que pida al usuario dos números y los sume.\n"
      ],
      "metadata": {
        "id": "GugGFA5ggPPR"
      }
    },
    {
      "cell_type": "code",
      "source": [
        "pregunta = int(input(\"Dame el primer numeros para sumar: \"))\n",
        "pregunta2 = int(input(\"Dame el segundo numeros para sumar: \"))\n",
        "\n",
        "suma = pregunta + pregunta2\n",
        "print(f\"La suma es {suma}\")\n",
        "#Cree dos inputs para que el usuario pudiera gregar sus datos y luego lo sume"
      ],
      "metadata": {
        "colab": {
          "base_uri": "https://localhost:8080/"
        },
        "id": "IR4WYZSVgRop",
        "outputId": "e833ba7f-f7cc-47b1-cc67-dfb4761e824f"
      },
      "execution_count": null,
      "outputs": [
        {
          "output_type": "stream",
          "name": "stdout",
          "text": [
            "Dame el primer numeros para sumar: 2\n",
            "Dame el segundo numeros para sumar: 3\n",
            "La suma es 5\n"
          ]
        }
      ]
    },
    {
      "cell_type": "markdown",
      "source": [
        "Par o Impar: Escribe un programa que determine si un número introducido por el usuario es par o impar.\n"
      ],
      "metadata": {
        "id": "HXMihep5hI98"
      }
    },
    {
      "cell_type": "code",
      "source": [
        "pregunta = int(input(\"Dame un numero y te dire si es impar o par: \"))\n",
        "\n",
        "if pregunta % 2 == 0:\n",
        "  print(\"El numero es par\")\n",
        "else:\n",
        "  print(\"El numero es impar\")\n",
        "#Cree un input y hice un if de si se dividia para 2 y su residuo era 0 imprima que es par o si no que imprima que no es par"
      ],
      "metadata": {
        "colab": {
          "base_uri": "https://localhost:8080/"
        },
        "id": "qD50bjXihKx6",
        "outputId": "b10ceea7-3ac2-430a-a6dd-82292f66bbbb"
      },
      "execution_count": null,
      "outputs": [
        {
          "output_type": "stream",
          "name": "stdout",
          "text": [
            "Dame un numero y te dire si es impar o par: 2\n",
            "El numero es par\n"
          ]
        }
      ]
    },
    {
      "cell_type": "markdown",
      "source": [
        "Calculadora básica: Escribe un programa que realice operaciones básicas (suma, resta, multiplicación y división) entre dos números introducidos por el usuario.\n"
      ],
      "metadata": {
        "id": "15KdI7RZhoJM"
      }
    },
    {
      "cell_type": "code",
      "source": [
        "\n",
        "  pregunta = int(input(\"Ingrese el primer numero para empezar las operaciones: \"))\n",
        "  pregunta2 = int(input(\"Ingrese el segundo numero para empezar las operaciones: \"))\n",
        "\n",
        "  suma = pregunta + pregunta2\n",
        "  resta = pregunta - pregunta2\n",
        "  multiplicacion = pregunta * pregunta2\n",
        "  division = pregunta / pregunta2\n",
        "\n",
        "  print(f\"La suma de los numeros {pregunta} y {pregunta2} 3es: {suma}\")\n",
        "  print(f\"La resta de los numeros {pregunta} y {pregunta2} es: {resta}\")\n",
        "  print(f\"La multiplicacion de los numeros {pregunta} y {pregunta2} es: {multiplicacion}\")\n",
        "  print(f\"La division de los numeros {pregunta} y {pregunta2} es: {division}\")\n",
        "\n",
        "#cre dos inpùt con y cree una variable para cada operacion para imprimirlo con un print"
      ],
      "metadata": {
        "colab": {
          "base_uri": "https://localhost:8080/"
        },
        "id": "rLwgWtKshpUL",
        "outputId": "d1e8f3d5-c677-4290-ea68-7d7bc8e42623"
      },
      "execution_count": null,
      "outputs": [
        {
          "output_type": "stream",
          "name": "stdout",
          "text": [
            "Ingrese el primer numero para empezar las operaciones: 3\n",
            "Ingrese el segundo numero para empezar las operaciones: 3\n",
            "La suma de los numeros 3 y 3 es: 6\n",
            "La resta de los numeros 3 y 3 es: 0\n",
            "La multiplicacion de los numeros 3 y 3 es: 9\n",
            "La division de los numeros 3 y 3 es: 1.0\n"
          ]
        }
      ]
    },
    {
      "cell_type": "markdown",
      "source": [
        "Número mayor: Escribe un programa que pida tres números al usuario y determine cuál es el mayor.\n",
        "\n"
      ],
      "metadata": {
        "id": "i59PkM8HjwU8"
      }
    },
    {
      "cell_type": "code",
      "source": [
        "numeroalto = []\n",
        "for var in range (0,3):\n",
        "    pregunta = int(input(\"Ingrese tres numeros: \"))\n",
        "    numeroalto.append(pregunta)\n",
        "\n",
        "mas=max(numeroalto)\n",
        "print(f\"En numero mas alto es: {mas}\")\n",
        "\n",
        "#Cree un for con el rango de 0,3 para que se repita la pregunta del input tres veces y que se guarde en la varible var, luego use la funcion max para sacar el mas alto y imprimi"
      ],
      "metadata": {
        "colab": {
          "base_uri": "https://localhost:8080/"
        },
        "id": "Jrs0qJ7hjz6L",
        "outputId": "ea502859-f97a-46e5-992b-daece11c0ecb"
      },
      "execution_count": null,
      "outputs": [
        {
          "output_type": "stream",
          "name": "stdout",
          "text": [
            "Ingrese tres numeros: 2\n",
            "Ingrese tres numeros: 3\n",
            "Ingrese tres numeros: 2\n",
            "En numero mas alto es: 3\n"
          ]
        }
      ]
    },
    {
      "cell_type": "markdown",
      "source": [
        "Cálculo del área de un círculo: Escribe un programa que calcule el área de un círculo a partir de su radio, ingresado por el usuario.\n"
      ],
      "metadata": {
        "id": "_0ht6aXanUWJ"
      }
    },
    {
      "cell_type": "code",
      "source": [
        "pregunta = int(input(\"Ingrese el radio del circulo: \"))\n",
        "#Use un input para pedir el numero para hacer la multiplicacion correspondiente\n",
        "\n",
        "area= 3,141592*pregunta**2\n",
        "\n",
        "print(f\"El area es: {area}\")\n"
      ],
      "metadata": {
        "colab": {
          "base_uri": "https://localhost:8080/"
        },
        "id": "xLuXznY_nU9p",
        "outputId": "fb1f63e9-6fef-468b-b3f2-07119eb3aee0"
      },
      "execution_count": null,
      "outputs": [
        {
          "output_type": "stream",
          "name": "stdout",
          "text": [
            "Ingrese el radio del circulo: 23\n",
            "El area es: (3, 74902168)\n"
          ]
        }
      ]
    },
    {
      "cell_type": "markdown",
      "source": [
        "Conversión de grados Celsius a Fahrenheit: Escribe un programa que convierta una temperatura dada en grados Celsius a grados Fahrenheit.\n",
        "\n"
      ],
      "metadata": {
        "id": "zDzCy4FWol4m"
      }
    },
    {
      "cell_type": "code",
      "source": [
        "pregunta = int(input(\"Ingrese la temperatura en grados Ceñsius para convertirlo en grados Fahrenheit: \"))\n",
        "\n",
        "conversion = pregunta*1.8+32\n",
        "\n",
        "print(conversion)\n",
        "#Use un input para pedir el numero para hacer la multiplicacion correspondiente"
      ],
      "metadata": {
        "colab": {
          "base_uri": "https://localhost:8080/"
        },
        "id": "HcU3eMS5onX1",
        "outputId": "1e739a52-fc18-49f3-9891-309bf46f0178"
      },
      "execution_count": null,
      "outputs": [
        {
          "output_type": "stream",
          "name": "stdout",
          "text": [
            "Ingrese la temperatura en grados Ceñsius para convertirlo en grados Fahrenheit: 34\n",
            "93.2\n"
          ]
        }
      ]
    },
    {
      "cell_type": "markdown",
      "source": [
        "Cuenta atrás: Escribe un programa que cuente hacia atrás desde 10 hasta 0.\n"
      ],
      "metadata": {
        "id": "VQSr3sc5sz9u"
      }
    },
    {
      "cell_type": "code",
      "source": [
        "for var in reversed(range(11)):\n",
        "    print(var)\n",
        "#use una funcion de reversed() para darle la vuelta al for y lo puse en un rango 11 ya que for no cuenta el ultimo numero"
      ],
      "metadata": {
        "colab": {
          "base_uri": "https://localhost:8080/"
        },
        "id": "8Pj2uvTcs0pl",
        "outputId": "e88a6e9f-e3de-4dc3-f835-3e525f1847cf"
      },
      "execution_count": null,
      "outputs": [
        {
          "output_type": "stream",
          "name": "stdout",
          "text": [
            "10\n",
            "9\n",
            "8\n",
            "7\n",
            "6\n",
            "5\n",
            "4\n",
            "3\n",
            "2\n",
            "1\n",
            "0\n"
          ]
        }
      ]
    },
    {
      "cell_type": "markdown",
      "source": [
        "Tabla de multiplicar: Escribe un programa que muestre la tabla de multiplicar de un número introducido por el usuario.\n"
      ],
      "metadata": {
        "id": "MVS7XVx0vDZC"
      }
    },
    {
      "cell_type": "code",
      "source": [
        "pregunta = int(input(\"Ingrese un numero para mostrar suu tabla de multiplicar hatas el 10: \"))\n",
        "\n",
        "for var in range(11):\n",
        "  print(f\"{pregunta} * {var} = \", pregunta*var)\n",
        "\n",
        "#Cree un input para pèdir el numero al usuario para luego crear un for donde craba otra variable y un print para que multiplique la pregunta con la variable creada que esta recoriendo el rango 10\n"
      ],
      "metadata": {
        "colab": {
          "base_uri": "https://localhost:8080/"
        },
        "id": "fXp9o45-vETi",
        "outputId": "e0df5173-0eb2-45cb-be2c-56b755915e93"
      },
      "execution_count": null,
      "outputs": [
        {
          "output_type": "stream",
          "name": "stdout",
          "text": [
            "Ingrese un numero para mostrar suu tabla de multiplicar hatas el 10: 2\n",
            "2 * 0 =  0\n",
            "2 * 1 =  2\n",
            "2 * 2 =  4\n",
            "2 * 3 =  6\n",
            "2 * 4 =  8\n",
            "2 * 5 =  10\n",
            "2 * 6 =  12\n",
            "2 * 7 =  14\n",
            "2 * 8 =  16\n",
            "2 * 9 =  18\n",
            "2 * 10 =  20\n"
          ]
        }
      ]
    },
    {
      "cell_type": "markdown",
      "source": [
        "Números primos: Escribe un programa que determine si un número introducido por el usuario es primo."
      ],
      "metadata": {
        "id": "-A9SXldtwn6i"
      }
    },
    {
      "cell_type": "code",
      "source": [
        "pregunta = int(input(\"Ingrese un numero para saber si es primo o no: \"))\n",
        "\n",
        "if pregunta % 1 == 0 and pregunta % pregunta == 0:\n",
        "   continue\n",
        "\n",
        "  print(f\"El numero {pregunta} es un numero primo\")\n",
        "else:\n",
        "  print(f\"El numero {pregunta} no es un numero primo\")"
      ],
      "metadata": {
        "colab": {
          "base_uri": "https://localhost:8080/"
        },
        "id": "VC0UUi1Fwo2R",
        "outputId": "1f80de41-f665-4bcb-e765-e5608a7e4887"
      },
      "execution_count": null,
      "outputs": [
        {
          "output_type": "stream",
          "name": "stdout",
          "text": [
            "Ingrese un numero para saber si es primo o no: 4\n",
            "El numero 4 es un numero primo\n"
          ]
        }
      ]
    },
    {
      "cell_type": "markdown",
      "source": [
        "Sumar números hasta un límite: Escribe un programa que sume todos los números naturales hasta un número límite introducido por el usuario."
      ],
      "metadata": {
        "id": "D6tMQnlbvYxS"
      }
    },
    {
      "cell_type": "code",
      "source": [
        "\n",
        "pregunta=int(input(\"Ingrese un numero para hacer una suma hasta el numero limite que quiera: \"))\n",
        "\n",
        "suma = 0\n",
        "numeros = []\n",
        "#Cree dos variables para guardar los datos como la lista y la suma\n",
        "\n",
        "for var in range(pregunta + 1):\n",
        "    suma += var\n",
        "    numeros.append(str(var))\n",
        "#Cree un for donde recora el numero hasta donde el ususario pidio, lo sume en bucle para ponerlo en la variable suma\n",
        "#Aparte cree una funcion append() donde guarde el resultado del recorido, modificado a str para que la lista funcione con el .jooin()\n",
        "expresion = \" + \".join(numeros)\n",
        "#Ahora que ya tengo la suma y los numeros creo una nueva variable donde uno todo con el .join() para que se muestre todas los numeros con un +\n",
        "print(f\"{expresion} = {suma}\")\n",
        "#Por fin muestro con un print() las dos variables"
      ],
      "metadata": {
        "id": "6euQ4JzDyBCn",
        "colab": {
          "base_uri": "https://localhost:8080/"
        },
        "outputId": "6b845231-caa0-478f-892a-a74c91c70a91"
      },
      "execution_count": 20,
      "outputs": [
        {
          "output_type": "stream",
          "name": "stdout",
          "text": [
            "Ingrese un numero para hacer una suma hasta el numero limite que quiera: 9\n",
            "1 + 2 + 3 + 4 + 5 + 6 + 7 + 8 + 9 = 45\n"
          ]
        }
      ]
    },
    {
      "cell_type": "markdown",
      "source": [
        "Invertir una cadena: Escribe un programa que invierta una cadena introducida por el usuario."
      ],
      "metadata": {
        "id": "gVd1hX_v7Z2X"
      }
    },
    {
      "cell_type": "code",
      "source": [
        "listanueva=[]\n",
        "\n",
        "while True:\n",
        "  pregunta=input(\"ingrese una palabra o numero para agregar a la lista: \")\n",
        "  print(\"Pulsa STOP para terminar el proceso\")\n",
        "  if pregunta == \"stop\" or pregunta ==\"STOP\":\n",
        "    print(\"Terminando proceso....\")\n",
        "    break\n",
        "  listanueva.append(pregunta)\n",
        "  #Cree un while para crear un bucle el cual se detendra con la palabra stop o STOP\n",
        "  #Ahi cree dentro del while un input para crear una seccion para agregar el string que de el usuario\n",
        "  #use un if para detenerlo si el str que ingrese sea igual a stop o STOP\n",
        "  #Use un break para detener si eso deter el while o si no se iria al infinito\n",
        "  #Asi mostre el resultado con un print\n",
        "print(\"\\n\")\n",
        "print(\"La lista agregada es:\")\n",
        "print(listanueva)"
      ],
      "metadata": {
        "colab": {
          "base_uri": "https://localhost:8080/"
        },
        "id": "O2CqtBDmvbJZ",
        "outputId": "f9949b9d-c8df-4608-c300-dc81abeb070c"
      },
      "execution_count": 37,
      "outputs": [
        {
          "output_type": "stream",
          "name": "stdout",
          "text": [
            "ingrese una palabra o numero para agregar a la lista: s\n",
            "Pulsa STOP para terminar el proceso\n",
            "ingrese una palabra o numero para agregar a la lista: stop\n",
            "Pulsa STOP para terminar el proceso\n",
            "Terminando proceso....\n",
            "\n",
            "\n",
            "La lista agregada es:\n",
            "['s']\n"
          ]
        }
      ]
    },
    {
      "cell_type": "markdown",
      "source": [
        "Contar vocales: Escribe un programa que cuente el número de vocales en una cadena introducida por el usuario."
      ],
      "metadata": {
        "id": "LXq_YU0SAa4p"
      }
    },
    {
      "cell_type": "code",
      "source": [
        "vocales=\"aeiouAEIOUÁÉÍÓÚ\"\n",
        "pregunta=input(\"Dame una palabra para contar las vocales \")\n",
        "nuevalista=[]\n",
        "\n",
        "for var in pregunta:\n",
        "  if var in vocales:\n",
        "    nuevalista.append(var)\n",
        "  else:\n",
        "    continue\n",
        "  #Cree una variable donde guarde guarde las vocales en mayusculas, minusculas y tilde\n",
        "  #cree un input para pedir la informacion de una palabra\n",
        "  #cree un for para crear un bucle pero en este no cree un rango, para que el recorido sea el input\n",
        "  #cree un if dentro del for donde unse un \"in\" que significa como \"Si esta en\" que para resumir seria\n",
        "  #si la variable var(la que cree con for) enta en(in) la variable vocales lo agregue\n",
        "  #a la nueva lsita con un append()\n",
        "  #Al final use un len() de la nueva lista que cree, la misma lisa que use append para agregar las vocales del str para contar\n",
        "  #Al final modtre el resultado con el print\n",
        "conteo=len(nuevalista)\n",
        "print(f\"El conteo es: {conteo} vocales\")"
      ],
      "metadata": {
        "colab": {
          "base_uri": "https://localhost:8080/"
        },
        "id": "do0dTA4NAD1C",
        "outputId": "b8a2145f-51b1-4ac4-ac2b-a7306101820d"
      },
      "execution_count": 50,
      "outputs": [
        {
          "output_type": "stream",
          "name": "stdout",
          "text": [
            "Dame una palabra para contar las vocales hola\n",
            "El conteo es: 2 vocales\n"
          ]
        }
      ]
    },
    {
      "cell_type": "markdown",
      "source": [
        "Palíndromo: Escribe un programa que determine si una cadena introducida por el usuario es un palíndromo."
      ],
      "metadata": {
        "id": "svqPsOgoE1dA"
      }
    },
    {
      "cell_type": "code",
      "source": [
        "pregunta=input(\"Dame una palabra para saber si el un palindromo: \")\n",
        "reversa = pregunta[::-1]\n",
        "\n",
        "if pregunta == reversa:\n",
        "  print(f\"{pregunta} Es un palindromo\")\n",
        "else:\n",
        "  print(f\"{pregunta} NO es un palindromo\")\n",
        "\n",
        "  #cree un input para preguntar la informacion que necesito del usuario\n",
        "  #Use la sintaxis [::-1] para darle la vuelta a la palabra que nos dio el usuario\n",
        "  #Cree un if para comparar la palabra dada con la nueva que habia hecho dandole la vuelta\n",
        "  #Si eran iguales imprimia que es un palindromo, si no, que no lo era\n",
        "\n"
      ],
      "metadata": {
        "colab": {
          "base_uri": "https://localhost:8080/"
        },
        "collapsed": true,
        "id": "a0vt61mqEJe3",
        "outputId": "00bfdd16-473e-4fdc-ff43-53b7441b8f4e"
      },
      "execution_count": 62,
      "outputs": [
        {
          "output_type": "stream",
          "name": "stdout",
          "text": [
            "Dame una palabra para saber si el un palindromo: hola\n",
            "hola NO es un palindromo\n"
          ]
        }
      ]
    },
    {
      "cell_type": "markdown",
      "source": [
        "Factorial de un número: Escribe un programa que calcule el factorial de un número introducido por el usuario.\n"
      ],
      "metadata": {
        "id": "v1x9vxxrGg2n"
      }
    },
    {
      "cell_type": "code",
      "source": [
        "factorial=1\n",
        "lista=[]\n",
        "pregunta=int(input(\"Dame una número para factorizar: \"))\n",
        "for var in range(1,pregunta+1):\n",
        "    factorial *= var\n",
        "    lista.append(str(var))\n",
        "\n",
        "#Cree dos variables, como antes\n",
        "#Cree una pregunta para conseguir el dato que necesitamos del usuario\n",
        "#Cree un for donde esta ves si usamos la variable como rango\n",
        "#use la primera variable que cree, la factorial. donde lo multipicaba por variable del for que cree\n",
        "#use un append() para guardar en lan lista\n",
        "#Use la funcion reversed() para darle vuelta a la lista, asi se vea mas como una factorizacion\n",
        "#Mostre la respuesta con un input()\n",
        "reversa=reversed(lista)\n",
        "expresion = \" * \".join(reversa)\n",
        "print(f\"{expresion} = {factorial}\")"
      ],
      "metadata": {
        "colab": {
          "base_uri": "https://localhost:8080/"
        },
        "id": "OjZY3Rs-Gi6j",
        "outputId": "a77e98e4-2472-4222-83c2-fc5f47425fed"
      },
      "execution_count": 72,
      "outputs": [
        {
          "output_type": "stream",
          "name": "stdout",
          "text": [
            "Dame una número para factorizar: 3\n",
            "3 * 2 * 1 = 6\n"
          ]
        }
      ]
    },
    {
      "cell_type": "markdown",
      "source": [
        "Generar números aleatorios: Escribe un programa que genere y muestre 5 números aleatorios entre 1 y 100."
      ],
      "metadata": {
        "id": "bYT414e0MLKF"
      }
    },
    {
      "cell_type": "code",
      "source": [
        "import random\n",
        "\n",
        "for var in range(5):\n",
        "  numeros=random.randint(1, 100)\n",
        "  print(numeros)\n",
        "#Importe el modulo random\n",
        "#Cree un for con el rango 5 para conseguir los 5 numeros aletorios\n",
        "#Use la funcion random.randint()para que saque un numero aletorio\n",
        "#Mostre la respuesta con un print()"
      ],
      "metadata": {
        "colab": {
          "base_uri": "https://localhost:8080/"
        },
        "id": "TfZZ0mH5MRwr",
        "outputId": "95a59bbf-d450-4fbd-ecfd-5d26e79030ad"
      },
      "execution_count": 76,
      "outputs": [
        {
          "output_type": "stream",
          "name": "stdout",
          "text": [
            "74\n",
            "66\n",
            "68\n",
            "20\n",
            "93\n",
            "97\n"
          ]
        }
      ]
    },
    {
      "cell_type": "markdown",
      "source": [
        "Calculadora de índice de masa corporal (IMC): Escribe un programa que calcule el índice de masa corporal (IMC) a partir del peso y la altura introducidos por el usuario."
      ],
      "metadata": {
        "id": "YhPvUXqHQOSg"
      }
    },
    {
      "cell_type": "code",
      "source": [
        "pregunta=int(input(\"Dame el numero del peso para calcular la masa corporal: \"))\n",
        "pregunta2=int(input(\"Dame el numero la altura para calcular la masa corporal: \"))\n",
        "\n",
        "respuesta=pregunta/(pregunta**2)\n",
        "#pedi por un input donde pedia el peso\n",
        "#pedi por otro input donde pedia la altura\n",
        "#Cree una variable donde hice la operacion para calcular la masa corporal que es IMC = peso (kg)/ [estatura (m)]2\n",
        "#Mostre la respuesta con un input\n",
        "\n",
        "print(f\"La masa corporal es: \",respuesta)\n"
      ],
      "metadata": {
        "colab": {
          "base_uri": "https://localhost:8080/"
        },
        "id": "TiEi2zceQQS7",
        "outputId": "bf90e1fd-325a-4d1a-c4fe-8dcb47092b51"
      },
      "execution_count": 80,
      "outputs": [
        {
          "output_type": "stream",
          "name": "stdout",
          "text": [
            "Dame el numero del peso para calcular la masa corporal: 5\n",
            "Dame el numero la altura para calcular la masa corporal: 2\n",
            "La masa corporal es:  0.2\n"
          ]
        }
      ]
    },
    {
      "cell_type": "markdown",
      "source": [],
      "metadata": {
        "id": "KCu5RsCAQk6U"
      }
    }
  ]
}