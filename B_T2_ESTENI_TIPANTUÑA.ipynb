{
  "nbformat": 4,
  "nbformat_minor": 0,
  "metadata": {
    "colab": {
      "provenance": [],
      "authorship_tag": "ABX9TyP1xHe3ymPvuqHUSAOoDJtk",
      "include_colab_link": true
    },
    "kernelspec": {
      "name": "python3",
      "display_name": "Python 3"
    },
    "language_info": {
      "name": "python"
    }
  },
  "cells": [
    {
      "cell_type": "markdown",
      "metadata": {
        "id": "view-in-github",
        "colab_type": "text"
      },
      "source": [
        "<a href=\"https://colab.research.google.com/github/EstefaniTM/hola-mundo/blob/main/B_T2_ESTENI_TIPANTU%C3%91A.ipynb\" target=\"_parent\"><img src=\"https://colab.research.google.com/assets/colab-badge.svg\" alt=\"Open In Colab\"/></a>"
      ]
    },
    {
      "cell_type": "markdown",
      "source": [
        "Trabajo 2: tic\n"
      ],
      "metadata": {
        "id": "1Djo4wyLfzJC"
      }
    },
    {
      "cell_type": "code",
      "execution_count": 1,
      "metadata": {
        "colab": {
          "base_uri": "https://localhost:8080/"
        },
        "id": "7xliB-lPfbMh",
        "outputId": "d714b974-4313-4f96-942b-e774ab3d86ed"
      },
      "outputs": [
        {
          "output_type": "stream",
          "name": "stdout",
          "text": [
            "Hola mundo\n"
          ]
        }
      ],
      "source": [
        "print(\"Hola mundo\")"
      ]
    },
    {
      "cell_type": "markdown",
      "source": [
        "Suma de dos números: Escribe un programa que pida al usuario dos números y los sume.\n"
      ],
      "metadata": {
        "id": "GugGFA5ggPPR"
      }
    },
    {
      "cell_type": "code",
      "source": [
        "pregunta = int(input(\"Dame el primer numeros para sumar: \"))\n",
        "pregunta2 = int(input(\"Dame el segundo numeros para sumar: \"))\n",
        "\n",
        "suma = pregunta + pregunta2\n",
        "print(f\"La suma es {suma}\")\n",
        "#Cree dos inputs para que el usuario pudiera gregar sus datos y luego lo sume"
      ],
      "metadata": {
        "colab": {
          "base_uri": "https://localhost:8080/"
        },
        "id": "IR4WYZSVgRop",
        "outputId": "e833ba7f-f7cc-47b1-cc67-dfb4761e824f"
      },
      "execution_count": 27,
      "outputs": [
        {
          "output_type": "stream",
          "name": "stdout",
          "text": [
            "Dame el primer numeros para sumar: 2\n",
            "Dame el segundo numeros para sumar: 3\n",
            "La suma es 5\n"
          ]
        }
      ]
    },
    {
      "cell_type": "markdown",
      "source": [
        "Par o Impar: Escribe un programa que determine si un número introducido por el usuario es par o impar.\n"
      ],
      "metadata": {
        "id": "HXMihep5hI98"
      }
    },
    {
      "cell_type": "code",
      "source": [
        "pregunta = int(input(\"Dame un numero y te dire si es impar o par: \"))\n",
        "\n",
        "if pregunta % 2 == 0:\n",
        "  print(\"El numero es par\")\n",
        "else:\n",
        "  print(\"El numero es impar\")\n",
        "#Cree un input y hice un if de si se dividia para 2 y su residuo era 0 imprima que es par o si no que imprima que no es par"
      ],
      "metadata": {
        "colab": {
          "base_uri": "https://localhost:8080/"
        },
        "id": "qD50bjXihKx6",
        "outputId": "b10ceea7-3ac2-430a-a6dd-82292f66bbbb"
      },
      "execution_count": 7,
      "outputs": [
        {
          "output_type": "stream",
          "name": "stdout",
          "text": [
            "Dame un numero y te dire si es impar o par: 2\n",
            "El numero es par\n"
          ]
        }
      ]
    },
    {
      "cell_type": "markdown",
      "source": [
        "Calculadora básica: Escribe un programa que realice operaciones básicas (suma, resta, multiplicación y división) entre dos números introducidos por el usuario.\n"
      ],
      "metadata": {
        "id": "15KdI7RZhoJM"
      }
    },
    {
      "cell_type": "code",
      "source": [
        "\n",
        "  pregunta = int(input(\"Ingrese el primer numero para empezar las operaciones: \"))\n",
        "  pregunta2 = int(input(\"Ingrese el segundo numero para empezar las operaciones: \"))\n",
        "\n",
        "  suma = pregunta + pregunta2\n",
        "  resta = pregunta - pregunta2\n",
        "  multiplicacion = pregunta * pregunta2\n",
        "  division = pregunta / pregunta2\n",
        "\n",
        "  print(f\"La suma de los numeros {pregunta} y {pregunta2} 3es: {suma}\")\n",
        "  print(f\"La resta de los numeros {pregunta} y {pregunta2} es: {resta}\")\n",
        "  print(f\"La multiplicacion de los numeros {pregunta} y {pregunta2} es: {multiplicacion}\")\n",
        "  print(f\"La division de los numeros {pregunta} y {pregunta2} es: {division}\")\n",
        "\n",
        "#cre dos inpùt con y cree una variable para cada operacion para imprimirlo con un print"
      ],
      "metadata": {
        "colab": {
          "base_uri": "https://localhost:8080/"
        },
        "id": "rLwgWtKshpUL",
        "outputId": "d1e8f3d5-c677-4290-ea68-7d7bc8e42623"
      },
      "execution_count": 10,
      "outputs": [
        {
          "output_type": "stream",
          "name": "stdout",
          "text": [
            "Ingrese el primer numero para empezar las operaciones: 3\n",
            "Ingrese el segundo numero para empezar las operaciones: 3\n",
            "La suma de los numeros 3 y 3 es: 6\n",
            "La resta de los numeros 3 y 3 es: 0\n",
            "La multiplicacion de los numeros 3 y 3 es: 9\n",
            "La division de los numeros 3 y 3 es: 1.0\n"
          ]
        }
      ]
    },
    {
      "cell_type": "markdown",
      "source": [
        "Número mayor: Escribe un programa que pida tres números al usuario y determine cuál es el mayor.\n",
        "\n"
      ],
      "metadata": {
        "id": "i59PkM8HjwU8"
      }
    },
    {
      "cell_type": "code",
      "source": [
        "numeroalto = []\n",
        "for var in range (0,3):\n",
        "    pregunta = int(input(\"Ingrese tres numeros: \"))\n",
        "    numeroalto.append(pregunta)\n",
        "\n",
        "mas=max(numeroalto)\n",
        "print(f\"En numero mas alto es: {mas}\")\n",
        "\n",
        "#Cree un for con el rango de 0,3 para que se repita la pregunta del input tres veces y que se guarde en la varible var, luego use la funcion max para sacar el mas alto y imprimi"
      ],
      "metadata": {
        "colab": {
          "base_uri": "https://localhost:8080/"
        },
        "id": "Jrs0qJ7hjz6L",
        "outputId": "ea502859-f97a-46e5-992b-daece11c0ecb"
      },
      "execution_count": 21,
      "outputs": [
        {
          "output_type": "stream",
          "name": "stdout",
          "text": [
            "Ingrese tres numeros: 2\n",
            "Ingrese tres numeros: 3\n",
            "Ingrese tres numeros: 2\n",
            "En numero mas alto es: 3\n"
          ]
        }
      ]
    },
    {
      "cell_type": "markdown",
      "source": [
        "Cálculo del área de un círculo: Escribe un programa que calcule el área de un círculo a partir de su radio, ingresado por el usuario.\n"
      ],
      "metadata": {
        "id": "_0ht6aXanUWJ"
      }
    },
    {
      "cell_type": "code",
      "source": [
        "pregunta = int(input(\"Ingrese el radio del circulo: \"))\n",
        "#Use un input para pedir el numero para hacer la multiplicacion correspondiente\n",
        "\n",
        "area= 3,141592*pregunta**2\n",
        "\n",
        "print(f\"El area es: {area}\")\n"
      ],
      "metadata": {
        "colab": {
          "base_uri": "https://localhost:8080/"
        },
        "id": "xLuXznY_nU9p",
        "outputId": "fb1f63e9-6fef-468b-b3f2-07119eb3aee0"
      },
      "execution_count": 24,
      "outputs": [
        {
          "output_type": "stream",
          "name": "stdout",
          "text": [
            "Ingrese el radio del circulo: 23\n",
            "El area es: (3, 74902168)\n"
          ]
        }
      ]
    },
    {
      "cell_type": "markdown",
      "source": [
        "Conversión de grados Celsius a Fahrenheit: Escribe un programa que convierta una temperatura dada en grados Celsius a grados Fahrenheit.\n",
        "\n"
      ],
      "metadata": {
        "id": "zDzCy4FWol4m"
      }
    },
    {
      "cell_type": "code",
      "source": [
        "pregunta = int(input(\"Ingrese la temperatura en grados Ceñsius para convertirlo en grados Fahrenheit: \"))\n",
        "\n",
        "conversion = pregunta*1.8+32\n",
        "\n",
        "print(conversion)\n",
        "#Use un input para pedir el numero para hacer la multiplicacion correspondiente"
      ],
      "metadata": {
        "colab": {
          "base_uri": "https://localhost:8080/"
        },
        "id": "HcU3eMS5onX1",
        "outputId": "1e739a52-fc18-49f3-9891-309bf46f0178"
      },
      "execution_count": 26,
      "outputs": [
        {
          "output_type": "stream",
          "name": "stdout",
          "text": [
            "Ingrese la temperatura en grados Ceñsius para convertirlo en grados Fahrenheit: 34\n",
            "93.2\n"
          ]
        }
      ]
    },
    {
      "cell_type": "markdown",
      "source": [
        "Cuenta atrás: Escribe un programa que cuente hacia atrás desde 10 hasta 0.\n"
      ],
      "metadata": {
        "id": "VQSr3sc5sz9u"
      }
    },
    {
      "cell_type": "code",
      "source": [
        "for var in reversed(range(11)):\n",
        "    print(var)\n",
        "#use una funcion de reversed() para darle la vuelta al for y lo puse en un rango 11 ya que for no cuenta el ultimo numero"
      ],
      "metadata": {
        "colab": {
          "base_uri": "https://localhost:8080/"
        },
        "id": "8Pj2uvTcs0pl",
        "outputId": "e88a6e9f-e3de-4dc3-f835-3e525f1847cf"
      },
      "execution_count": 30,
      "outputs": [
        {
          "output_type": "stream",
          "name": "stdout",
          "text": [
            "10\n",
            "9\n",
            "8\n",
            "7\n",
            "6\n",
            "5\n",
            "4\n",
            "3\n",
            "2\n",
            "1\n",
            "0\n"
          ]
        }
      ]
    }
  ]
}